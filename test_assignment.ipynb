{
 "cells": [
  {
   "cell_type": "code",
   "execution_count": 1,
   "metadata": {},
   "outputs": [],
   "source": [
    "import numpy as np\n",
    "import pandas as pd\n"
   ]
  },
  {
   "cell_type": "code",
   "execution_count": 2,
   "metadata": {},
   "outputs": [],
   "source": [
    "df = pd.read_csv('data.csv')"
   ]
  },
  {
   "cell_type": "markdown",
   "metadata": {},
   "source": [
    "Импортируем датасет как датафрейм пандас"
   ]
  },
  {
   "cell_type": "code",
   "execution_count": 3,
   "metadata": {},
   "outputs": [
    {
     "name": "stdout",
     "output_type": "stream",
     "text": [
      "<class 'pandas.core.frame.DataFrame'>\n",
      "RangeIndex: 20468 entries, 0 to 20467\n",
      "Data columns (total 29 columns):\n",
      "age                                     20468 non-null int64\n",
      "annualincome                            20468 non-null int64\n",
      "calldroprate                            20468 non-null float64\n",
      "callfailurerate                         20468 non-null float64\n",
      "callingnum                              20468 non-null int64\n",
      "customerid                              20468 non-null int64\n",
      "customersuspended                       20468 non-null object\n",
      "education                               20468 non-null object\n",
      "gender                                  20468 non-null object\n",
      "homeowner                               20468 non-null object\n",
      "maritalstatus                           20468 non-null object\n",
      "monthlybilledamount                     20468 non-null int64\n",
      "noadditionallines                       20468 non-null object\n",
      "numberofcomplaints                      20468 non-null int64\n",
      "numberofmonthunpaid                     20468 non-null int64\n",
      "numdayscontractequipmentplanexpiring    20468 non-null int64\n",
      "occupation                              20468 non-null object\n",
      "penaltytoswitch                         20468 non-null int64\n",
      "state                                   20468 non-null object\n",
      "totalminsusedinlastmonth                20468 non-null int64\n",
      "unpaidbalance                           20468 non-null int64\n",
      "usesinternetservice                     20468 non-null object\n",
      "usesvoiceservice                        20468 non-null object\n",
      "percentagecalloutsidenetwork            20468 non-null float64\n",
      "totalcallduration                       20468 non-null int64\n",
      "avgcallduration                         20468 non-null int64\n",
      "churn                                   20468 non-null int64\n",
      "year                                    20468 non-null int64\n",
      "month                                   20468 non-null int64\n",
      "dtypes: float64(3), int64(16), object(10)\n",
      "memory usage: 4.5+ MB\n"
     ]
    }
   ],
   "source": [
    "df.info()"
   ]
  },
  {
   "cell_type": "markdown",
   "metadata": {},
   "source": [
    "Похоже, что датасет состоит из данных разных типов: категорийных, дамми и числовых. При этом, часть данных явно не имеют прогнозных значений и будут вычищены. Данные хорошего качества, нет null values."
   ]
  },
  {
   "cell_type": "code",
   "execution_count": 4,
   "metadata": {},
   "outputs": [
    {
     "data": {
      "text/html": [
       "<div>\n",
       "<style scoped>\n",
       "    .dataframe tbody tr th:only-of-type {\n",
       "        vertical-align: middle;\n",
       "    }\n",
       "\n",
       "    .dataframe tbody tr th {\n",
       "        vertical-align: top;\n",
       "    }\n",
       "\n",
       "    .dataframe thead th {\n",
       "        text-align: right;\n",
       "    }\n",
       "</style>\n",
       "<table border=\"1\" class=\"dataframe\">\n",
       "  <thead>\n",
       "    <tr style=\"text-align: right;\">\n",
       "      <th></th>\n",
       "      <th>age</th>\n",
       "      <th>annualincome</th>\n",
       "      <th>calldroprate</th>\n",
       "      <th>callfailurerate</th>\n",
       "      <th>callingnum</th>\n",
       "      <th>customerid</th>\n",
       "      <th>customersuspended</th>\n",
       "      <th>education</th>\n",
       "      <th>gender</th>\n",
       "      <th>homeowner</th>\n",
       "      <th>...</th>\n",
       "      <th>totalminsusedinlastmonth</th>\n",
       "      <th>unpaidbalance</th>\n",
       "      <th>usesinternetservice</th>\n",
       "      <th>usesvoiceservice</th>\n",
       "      <th>percentagecalloutsidenetwork</th>\n",
       "      <th>totalcallduration</th>\n",
       "      <th>avgcallduration</th>\n",
       "      <th>churn</th>\n",
       "      <th>year</th>\n",
       "      <th>month</th>\n",
       "    </tr>\n",
       "  </thead>\n",
       "  <tbody>\n",
       "    <tr>\n",
       "      <th>0</th>\n",
       "      <td>12</td>\n",
       "      <td>168147</td>\n",
       "      <td>0.06</td>\n",
       "      <td>0.00</td>\n",
       "      <td>4251078442</td>\n",
       "      <td>1</td>\n",
       "      <td>Yes</td>\n",
       "      <td>Bachelor or equivalent</td>\n",
       "      <td>Male</td>\n",
       "      <td>Yes</td>\n",
       "      <td>...</td>\n",
       "      <td>15</td>\n",
       "      <td>19</td>\n",
       "      <td>No</td>\n",
       "      <td>No</td>\n",
       "      <td>0.82</td>\n",
       "      <td>5971</td>\n",
       "      <td>663</td>\n",
       "      <td>0</td>\n",
       "      <td>2015</td>\n",
       "      <td>1</td>\n",
       "    </tr>\n",
       "    <tr>\n",
       "      <th>1</th>\n",
       "      <td>12</td>\n",
       "      <td>168147</td>\n",
       "      <td>0.06</td>\n",
       "      <td>0.00</td>\n",
       "      <td>4251078442</td>\n",
       "      <td>1</td>\n",
       "      <td>Yes</td>\n",
       "      <td>Bachelor or equivalent</td>\n",
       "      <td>Male</td>\n",
       "      <td>Yes</td>\n",
       "      <td>...</td>\n",
       "      <td>15</td>\n",
       "      <td>19</td>\n",
       "      <td>No</td>\n",
       "      <td>No</td>\n",
       "      <td>0.82</td>\n",
       "      <td>3981</td>\n",
       "      <td>995</td>\n",
       "      <td>0</td>\n",
       "      <td>2015</td>\n",
       "      <td>2</td>\n",
       "    </tr>\n",
       "    <tr>\n",
       "      <th>2</th>\n",
       "      <td>42</td>\n",
       "      <td>29047</td>\n",
       "      <td>0.05</td>\n",
       "      <td>0.01</td>\n",
       "      <td>4251043419</td>\n",
       "      <td>2</td>\n",
       "      <td>Yes</td>\n",
       "      <td>Bachelor or equivalent</td>\n",
       "      <td>Female</td>\n",
       "      <td>Yes</td>\n",
       "      <td>...</td>\n",
       "      <td>212</td>\n",
       "      <td>34</td>\n",
       "      <td>No</td>\n",
       "      <td>Yes</td>\n",
       "      <td>0.27</td>\n",
       "      <td>7379</td>\n",
       "      <td>737</td>\n",
       "      <td>0</td>\n",
       "      <td>2015</td>\n",
       "      <td>1</td>\n",
       "    </tr>\n",
       "    <tr>\n",
       "      <th>3</th>\n",
       "      <td>42</td>\n",
       "      <td>29047</td>\n",
       "      <td>0.05</td>\n",
       "      <td>0.01</td>\n",
       "      <td>4251043419</td>\n",
       "      <td>2</td>\n",
       "      <td>Yes</td>\n",
       "      <td>Bachelor or equivalent</td>\n",
       "      <td>Female</td>\n",
       "      <td>Yes</td>\n",
       "      <td>...</td>\n",
       "      <td>212</td>\n",
       "      <td>34</td>\n",
       "      <td>No</td>\n",
       "      <td>Yes</td>\n",
       "      <td>0.27</td>\n",
       "      <td>1729</td>\n",
       "      <td>432</td>\n",
       "      <td>0</td>\n",
       "      <td>2015</td>\n",
       "      <td>2</td>\n",
       "    </tr>\n",
       "    <tr>\n",
       "      <th>4</th>\n",
       "      <td>58</td>\n",
       "      <td>27076</td>\n",
       "      <td>0.07</td>\n",
       "      <td>0.02</td>\n",
       "      <td>4251055773</td>\n",
       "      <td>3</td>\n",
       "      <td>Yes</td>\n",
       "      <td>Master or equivalent</td>\n",
       "      <td>Female</td>\n",
       "      <td>Yes</td>\n",
       "      <td>...</td>\n",
       "      <td>216</td>\n",
       "      <td>144</td>\n",
       "      <td>No</td>\n",
       "      <td>No</td>\n",
       "      <td>0.48</td>\n",
       "      <td>3122</td>\n",
       "      <td>624</td>\n",
       "      <td>0</td>\n",
       "      <td>2015</td>\n",
       "      <td>1</td>\n",
       "    </tr>\n",
       "  </tbody>\n",
       "</table>\n",
       "<p>5 rows × 29 columns</p>\n",
       "</div>"
      ],
      "text/plain": [
       "   age  annualincome  calldroprate  callfailurerate  callingnum  customerid  \\\n",
       "0   12        168147          0.06             0.00  4251078442           1   \n",
       "1   12        168147          0.06             0.00  4251078442           1   \n",
       "2   42         29047          0.05             0.01  4251043419           2   \n",
       "3   42         29047          0.05             0.01  4251043419           2   \n",
       "4   58         27076          0.07             0.02  4251055773           3   \n",
       "\n",
       "  customersuspended               education  gender homeowner  ...  \\\n",
       "0               Yes  Bachelor or equivalent    Male       Yes  ...   \n",
       "1               Yes  Bachelor or equivalent    Male       Yes  ...   \n",
       "2               Yes  Bachelor or equivalent  Female       Yes  ...   \n",
       "3               Yes  Bachelor or equivalent  Female       Yes  ...   \n",
       "4               Yes    Master or equivalent  Female       Yes  ...   \n",
       "\n",
       "  totalminsusedinlastmonth  unpaidbalance usesinternetservice  \\\n",
       "0                       15             19                  No   \n",
       "1                       15             19                  No   \n",
       "2                      212             34                  No   \n",
       "3                      212             34                  No   \n",
       "4                      216            144                  No   \n",
       "\n",
       "   usesvoiceservice  percentagecalloutsidenetwork  totalcallduration  \\\n",
       "0                No                          0.82               5971   \n",
       "1                No                          0.82               3981   \n",
       "2               Yes                          0.27               7379   \n",
       "3               Yes                          0.27               1729   \n",
       "4                No                          0.48               3122   \n",
       "\n",
       "  avgcallduration  churn  year  month  \n",
       "0             663      0  2015      1  \n",
       "1             995      0  2015      2  \n",
       "2             737      0  2015      1  \n",
       "3             432      0  2015      2  \n",
       "4             624      0  2015      1  \n",
       "\n",
       "[5 rows x 29 columns]"
      ]
     },
     "execution_count": 4,
     "metadata": {},
     "output_type": "execute_result"
    }
   ],
   "source": [
    "df.head()"
   ]
  },
  {
   "cell_type": "markdown",
   "metadata": {},
   "source": [
    "Похоже, что ID некоторых пользователей дублируются, т.к. идёт сбор данных более чем за один месяц. Это может быть хорошим критерием оценки, уйдёт человек или нет, т.к. лояльные клиенты меньше меняют свои привычки. При этом непонятно заполнение в графе \"образование\" бакалавр в 12 лет, возможно, часть данных не соответствует действительности"
   ]
  },
  {
   "cell_type": "code",
   "execution_count": 5,
   "metadata": {},
   "outputs": [
    {
     "data": {
      "text/plain": [
       "0    18605\n",
       "1     1863\n",
       "Name: churn, dtype: int64"
      ]
     },
     "execution_count": 5,
     "metadata": {},
     "output_type": "execute_result"
    }
   ],
   "source": [
    "df['churn'].value_counts()"
   ]
  },
  {
   "cell_type": "markdown",
   "metadata": {},
   "source": [
    "Похоже, что отток идёт порядка 10% от общего числа записей."
   ]
  },
  {
   "cell_type": "code",
   "execution_count": 6,
   "metadata": {},
   "outputs": [
    {
     "data": {
      "text/plain": [
       "age                                    -0.137655\n",
       "annualincome                           -0.001800\n",
       "calldroprate                            0.006906\n",
       "callfailurerate                         0.003483\n",
       "callingnum                             -0.009410\n",
       "customerid                              0.002439\n",
       "monthlybilledamount                     0.009842\n",
       "numberofcomplaints                      0.054646\n",
       "numberofmonthunpaid                     0.005232\n",
       "numdayscontractequipmentplanexpiring   -0.017892\n",
       "penaltytoswitch                        -0.002050\n",
       "totalminsusedinlastmonth                0.003791\n",
       "unpaidbalance                           0.047482\n",
       "percentagecalloutsidenetwork           -0.012896\n",
       "totalcallduration                      -0.010087\n",
       "avgcallduration                        -0.001881\n",
       "churn                                   1.000000\n",
       "year                                         NaN\n",
       "month                                   0.004760\n",
       "Name: churn, dtype: float64"
      ]
     },
     "execution_count": 6,
     "metadata": {},
     "output_type": "execute_result"
    }
   ],
   "source": [
    "corr = df.corr()\n",
    "corr['churn']"
   ]
  },
  {
   "cell_type": "code",
   "execution_count": 7,
   "metadata": {},
   "outputs": [
    {
     "data": {
      "text/html": [
       "<div>\n",
       "<style scoped>\n",
       "    .dataframe tbody tr th:only-of-type {\n",
       "        vertical-align: middle;\n",
       "    }\n",
       "\n",
       "    .dataframe tbody tr th {\n",
       "        vertical-align: top;\n",
       "    }\n",
       "\n",
       "    .dataframe thead th {\n",
       "        text-align: right;\n",
       "    }\n",
       "</style>\n",
       "<table border=\"1\" class=\"dataframe\">\n",
       "  <thead>\n",
       "    <tr style=\"text-align: right;\">\n",
       "      <th></th>\n",
       "      <th>age</th>\n",
       "      <th>annualincome</th>\n",
       "      <th>calldroprate</th>\n",
       "      <th>callfailurerate</th>\n",
       "      <th>callingnum</th>\n",
       "      <th>customerid</th>\n",
       "      <th>monthlybilledamount</th>\n",
       "      <th>numberofcomplaints</th>\n",
       "      <th>numberofmonthunpaid</th>\n",
       "      <th>numdayscontractequipmentplanexpiring</th>\n",
       "      <th>penaltytoswitch</th>\n",
       "      <th>totalminsusedinlastmonth</th>\n",
       "      <th>unpaidbalance</th>\n",
       "      <th>percentagecalloutsidenetwork</th>\n",
       "      <th>totalcallduration</th>\n",
       "      <th>avgcallduration</th>\n",
       "      <th>churn</th>\n",
       "      <th>year</th>\n",
       "      <th>month</th>\n",
       "    </tr>\n",
       "  </thead>\n",
       "  <tbody>\n",
       "    <tr>\n",
       "      <th>count</th>\n",
       "      <td>20468.000000</td>\n",
       "      <td>20468.000000</td>\n",
       "      <td>20468.000000</td>\n",
       "      <td>20468.000000</td>\n",
       "      <td>2.046800e+04</td>\n",
       "      <td>20468.000000</td>\n",
       "      <td>20468.000000</td>\n",
       "      <td>20468.000000</td>\n",
       "      <td>20468.000000</td>\n",
       "      <td>20468.000000</td>\n",
       "      <td>20468.000000</td>\n",
       "      <td>20468.000000</td>\n",
       "      <td>20468.000000</td>\n",
       "      <td>20468.000000</td>\n",
       "      <td>20468.000000</td>\n",
       "      <td>20468.000000</td>\n",
       "      <td>20468.000000</td>\n",
       "      <td>20468.0</td>\n",
       "      <td>20468.000000</td>\n",
       "    </tr>\n",
       "    <tr>\n",
       "      <th>mean</th>\n",
       "      <td>45.334327</td>\n",
       "      <td>124446.818253</td>\n",
       "      <td>0.035021</td>\n",
       "      <td>0.015239</td>\n",
       "      <td>4.220203e+09</td>\n",
       "      <td>4757.953342</td>\n",
       "      <td>59.630252</td>\n",
       "      <td>1.499169</td>\n",
       "      <td>3.489252</td>\n",
       "      <td>49.366816</td>\n",
       "      <td>248.792603</td>\n",
       "      <td>249.740522</td>\n",
       "      <td>126.656879</td>\n",
       "      <td>0.496528</td>\n",
       "      <td>3521.696306</td>\n",
       "      <td>721.521057</td>\n",
       "      <td>0.091020</td>\n",
       "      <td>2015.0</td>\n",
       "      <td>1.611687</td>\n",
       "    </tr>\n",
       "    <tr>\n",
       "      <th>std</th>\n",
       "      <td>19.624577</td>\n",
       "      <td>72129.392001</td>\n",
       "      <td>0.022996</td>\n",
       "      <td>0.011213</td>\n",
       "      <td>3.365196e+08</td>\n",
       "      <td>2751.070062</td>\n",
       "      <td>34.652681</td>\n",
       "      <td>1.119153</td>\n",
       "      <td>2.289740</td>\n",
       "      <td>28.874138</td>\n",
       "      <td>144.247247</td>\n",
       "      <td>144.198066</td>\n",
       "      <td>70.367800</td>\n",
       "      <td>0.288220</td>\n",
       "      <td>1959.642260</td>\n",
       "      <td>225.677596</td>\n",
       "      <td>0.287645</td>\n",
       "      <td>0.0</td>\n",
       "      <td>0.621895</td>\n",
       "    </tr>\n",
       "    <tr>\n",
       "      <th>min</th>\n",
       "      <td>12.000000</td>\n",
       "      <td>4.000000</td>\n",
       "      <td>0.000000</td>\n",
       "      <td>0.000000</td>\n",
       "      <td>1.022955e+08</td>\n",
       "      <td>1.000000</td>\n",
       "      <td>0.000000</td>\n",
       "      <td>0.000000</td>\n",
       "      <td>0.000000</td>\n",
       "      <td>0.000000</td>\n",
       "      <td>0.000000</td>\n",
       "      <td>0.000000</td>\n",
       "      <td>0.000000</td>\n",
       "      <td>0.000000</td>\n",
       "      <td>0.000000</td>\n",
       "      <td>0.000000</td>\n",
       "      <td>0.000000</td>\n",
       "      <td>2015.0</td>\n",
       "      <td>1.000000</td>\n",
       "    </tr>\n",
       "    <tr>\n",
       "      <th>25%</th>\n",
       "      <td>28.000000</td>\n",
       "      <td>61898.000000</td>\n",
       "      <td>0.010000</td>\n",
       "      <td>0.010000</td>\n",
       "      <td>4.251031e+09</td>\n",
       "      <td>2372.750000</td>\n",
       "      <td>29.000000</td>\n",
       "      <td>0.000000</td>\n",
       "      <td>1.000000</td>\n",
       "      <td>24.000000</td>\n",
       "      <td>124.000000</td>\n",
       "      <td>126.000000</td>\n",
       "      <td>66.000000</td>\n",
       "      <td>0.250000</td>\n",
       "      <td>2047.750000</td>\n",
       "      <td>582.000000</td>\n",
       "      <td>0.000000</td>\n",
       "      <td>2015.0</td>\n",
       "      <td>1.000000</td>\n",
       "    </tr>\n",
       "    <tr>\n",
       "      <th>50%</th>\n",
       "      <td>45.000000</td>\n",
       "      <td>123689.500000</td>\n",
       "      <td>0.040000</td>\n",
       "      <td>0.020000</td>\n",
       "      <td>4.251054e+09</td>\n",
       "      <td>4754.000000</td>\n",
       "      <td>60.000000</td>\n",
       "      <td>2.000000</td>\n",
       "      <td>3.000000</td>\n",
       "      <td>49.000000</td>\n",
       "      <td>249.000000</td>\n",
       "      <td>249.000000</td>\n",
       "      <td>122.000000</td>\n",
       "      <td>0.500000</td>\n",
       "      <td>3365.000000</td>\n",
       "      <td>721.000000</td>\n",
       "      <td>0.000000</td>\n",
       "      <td>2015.0</td>\n",
       "      <td>2.000000</td>\n",
       "    </tr>\n",
       "    <tr>\n",
       "      <th>75%</th>\n",
       "      <td>62.000000</td>\n",
       "      <td>187065.250000</td>\n",
       "      <td>0.060000</td>\n",
       "      <td>0.030000</td>\n",
       "      <td>4.251077e+09</td>\n",
       "      <td>7141.250000</td>\n",
       "      <td>90.000000</td>\n",
       "      <td>3.000000</td>\n",
       "      <td>5.000000</td>\n",
       "      <td>74.000000</td>\n",
       "      <td>373.000000</td>\n",
       "      <td>374.000000</td>\n",
       "      <td>191.000000</td>\n",
       "      <td>0.750000</td>\n",
       "      <td>4786.250000</td>\n",
       "      <td>862.000000</td>\n",
       "      <td>0.000000</td>\n",
       "      <td>2015.0</td>\n",
       "      <td>2.000000</td>\n",
       "    </tr>\n",
       "    <tr>\n",
       "      <th>max</th>\n",
       "      <td>79.000000</td>\n",
       "      <td>249987.000000</td>\n",
       "      <td>0.070000</td>\n",
       "      <td>0.030000</td>\n",
       "      <td>4.251100e+09</td>\n",
       "      <td>9525.000000</td>\n",
       "      <td>119.000000</td>\n",
       "      <td>3.000000</td>\n",
       "      <td>7.000000</td>\n",
       "      <td>99.000000</td>\n",
       "      <td>499.000000</td>\n",
       "      <td>499.000000</td>\n",
       "      <td>249.000000</td>\n",
       "      <td>0.990000</td>\n",
       "      <td>16662.000000</td>\n",
       "      <td>1439.000000</td>\n",
       "      <td>1.000000</td>\n",
       "      <td>2015.0</td>\n",
       "      <td>3.000000</td>\n",
       "    </tr>\n",
       "  </tbody>\n",
       "</table>\n",
       "</div>"
      ],
      "text/plain": [
       "                age   annualincome  calldroprate  callfailurerate  \\\n",
       "count  20468.000000   20468.000000  20468.000000     20468.000000   \n",
       "mean      45.334327  124446.818253      0.035021         0.015239   \n",
       "std       19.624577   72129.392001      0.022996         0.011213   \n",
       "min       12.000000       4.000000      0.000000         0.000000   \n",
       "25%       28.000000   61898.000000      0.010000         0.010000   \n",
       "50%       45.000000  123689.500000      0.040000         0.020000   \n",
       "75%       62.000000  187065.250000      0.060000         0.030000   \n",
       "max       79.000000  249987.000000      0.070000         0.030000   \n",
       "\n",
       "         callingnum    customerid  monthlybilledamount  numberofcomplaints  \\\n",
       "count  2.046800e+04  20468.000000         20468.000000        20468.000000   \n",
       "mean   4.220203e+09   4757.953342            59.630252            1.499169   \n",
       "std    3.365196e+08   2751.070062            34.652681            1.119153   \n",
       "min    1.022955e+08      1.000000             0.000000            0.000000   \n",
       "25%    4.251031e+09   2372.750000            29.000000            0.000000   \n",
       "50%    4.251054e+09   4754.000000            60.000000            2.000000   \n",
       "75%    4.251077e+09   7141.250000            90.000000            3.000000   \n",
       "max    4.251100e+09   9525.000000           119.000000            3.000000   \n",
       "\n",
       "       numberofmonthunpaid  numdayscontractequipmentplanexpiring  \\\n",
       "count         20468.000000                          20468.000000   \n",
       "mean              3.489252                             49.366816   \n",
       "std               2.289740                             28.874138   \n",
       "min               0.000000                              0.000000   \n",
       "25%               1.000000                             24.000000   \n",
       "50%               3.000000                             49.000000   \n",
       "75%               5.000000                             74.000000   \n",
       "max               7.000000                             99.000000   \n",
       "\n",
       "       penaltytoswitch  totalminsusedinlastmonth  unpaidbalance  \\\n",
       "count     20468.000000              20468.000000   20468.000000   \n",
       "mean        248.792603                249.740522     126.656879   \n",
       "std         144.247247                144.198066      70.367800   \n",
       "min           0.000000                  0.000000       0.000000   \n",
       "25%         124.000000                126.000000      66.000000   \n",
       "50%         249.000000                249.000000     122.000000   \n",
       "75%         373.000000                374.000000     191.000000   \n",
       "max         499.000000                499.000000     249.000000   \n",
       "\n",
       "       percentagecalloutsidenetwork  totalcallduration  avgcallduration  \\\n",
       "count                  20468.000000       20468.000000     20468.000000   \n",
       "mean                       0.496528        3521.696306       721.521057   \n",
       "std                        0.288220        1959.642260       225.677596   \n",
       "min                        0.000000           0.000000         0.000000   \n",
       "25%                        0.250000        2047.750000       582.000000   \n",
       "50%                        0.500000        3365.000000       721.000000   \n",
       "75%                        0.750000        4786.250000       862.000000   \n",
       "max                        0.990000       16662.000000      1439.000000   \n",
       "\n",
       "              churn     year         month  \n",
       "count  20468.000000  20468.0  20468.000000  \n",
       "mean       0.091020   2015.0      1.611687  \n",
       "std        0.287645      0.0      0.621895  \n",
       "min        0.000000   2015.0      1.000000  \n",
       "25%        0.000000   2015.0      1.000000  \n",
       "50%        0.000000   2015.0      2.000000  \n",
       "75%        0.000000   2015.0      2.000000  \n",
       "max        1.000000   2015.0      3.000000  "
      ]
     },
     "execution_count": 7,
     "metadata": {},
     "output_type": "execute_result"
    }
   ],
   "source": [
    "df.describe()"
   ]
  },
  {
   "cell_type": "code",
   "execution_count": 8,
   "metadata": {},
   "outputs": [
    {
     "data": {
      "text/plain": [
       "(20468, 29)"
      ]
     },
     "execution_count": 8,
     "metadata": {},
     "output_type": "execute_result"
    }
   ],
   "source": [
    "df.shape"
   ]
  },
  {
   "cell_type": "code",
   "execution_count": 9,
   "metadata": {},
   "outputs": [],
   "source": [
    "df = df.drop(['year','callingnum'], axis = 1)"
   ]
  },
  {
   "cell_type": "markdown",
   "metadata": {},
   "source": [
    "Отбрасываем колонки 'year', т.к. год всего один, 'callingnum' , т.к. знание номера телефона ничего не даст нам с точки зрения анализа."
   ]
  },
  {
   "cell_type": "code",
   "execution_count": 10,
   "metadata": {},
   "outputs": [
    {
     "data": {
      "text/plain": [
       "Single     10446\n",
       "Married    10022\n",
       "Name: maritalstatus, dtype: int64"
      ]
     },
     "execution_count": 10,
     "metadata": {},
     "output_type": "execute_result"
    }
   ],
   "source": [
    "df['maritalstatus'].value_counts()"
   ]
  },
  {
   "cell_type": "code",
   "execution_count": 11,
   "metadata": {},
   "outputs": [
    {
     "data": {
      "text/html": [
       "<div>\n",
       "<style scoped>\n",
       "    .dataframe tbody tr th:only-of-type {\n",
       "        vertical-align: middle;\n",
       "    }\n",
       "\n",
       "    .dataframe tbody tr th {\n",
       "        vertical-align: top;\n",
       "    }\n",
       "\n",
       "    .dataframe thead th {\n",
       "        text-align: right;\n",
       "    }\n",
       "</style>\n",
       "<table border=\"1\" class=\"dataframe\">\n",
       "  <thead>\n",
       "    <tr style=\"text-align: right;\">\n",
       "      <th></th>\n",
       "      <th>customersuspended</th>\n",
       "      <th>education</th>\n",
       "      <th>gender</th>\n",
       "      <th>homeowner</th>\n",
       "      <th>maritalstatus</th>\n",
       "      <th>noadditionallines</th>\n",
       "      <th>occupation</th>\n",
       "      <th>state</th>\n",
       "      <th>usesinternetservice</th>\n",
       "      <th>usesvoiceservice</th>\n",
       "    </tr>\n",
       "  </thead>\n",
       "  <tbody>\n",
       "    <tr>\n",
       "      <th>0</th>\n",
       "      <td>Yes</td>\n",
       "      <td>Bachelor or equivalent</td>\n",
       "      <td>Male</td>\n",
       "      <td>Yes</td>\n",
       "      <td>Single</td>\n",
       "      <td>\\N</td>\n",
       "      <td>Technology Related Job</td>\n",
       "      <td>WA</td>\n",
       "      <td>No</td>\n",
       "      <td>No</td>\n",
       "    </tr>\n",
       "    <tr>\n",
       "      <th>1</th>\n",
       "      <td>Yes</td>\n",
       "      <td>Bachelor or equivalent</td>\n",
       "      <td>Male</td>\n",
       "      <td>Yes</td>\n",
       "      <td>Single</td>\n",
       "      <td>\\N</td>\n",
       "      <td>Technology Related Job</td>\n",
       "      <td>WA</td>\n",
       "      <td>No</td>\n",
       "      <td>No</td>\n",
       "    </tr>\n",
       "    <tr>\n",
       "      <th>2</th>\n",
       "      <td>Yes</td>\n",
       "      <td>Bachelor or equivalent</td>\n",
       "      <td>Female</td>\n",
       "      <td>Yes</td>\n",
       "      <td>Single</td>\n",
       "      <td>\\N</td>\n",
       "      <td>Technology Related Job</td>\n",
       "      <td>WI</td>\n",
       "      <td>No</td>\n",
       "      <td>Yes</td>\n",
       "    </tr>\n",
       "    <tr>\n",
       "      <th>3</th>\n",
       "      <td>Yes</td>\n",
       "      <td>Bachelor or equivalent</td>\n",
       "      <td>Female</td>\n",
       "      <td>Yes</td>\n",
       "      <td>Single</td>\n",
       "      <td>\\N</td>\n",
       "      <td>Technology Related Job</td>\n",
       "      <td>WI</td>\n",
       "      <td>No</td>\n",
       "      <td>Yes</td>\n",
       "    </tr>\n",
       "    <tr>\n",
       "      <th>4</th>\n",
       "      <td>Yes</td>\n",
       "      <td>Master or equivalent</td>\n",
       "      <td>Female</td>\n",
       "      <td>Yes</td>\n",
       "      <td>Single</td>\n",
       "      <td>\\N</td>\n",
       "      <td>Technology Related Job</td>\n",
       "      <td>KS</td>\n",
       "      <td>No</td>\n",
       "      <td>No</td>\n",
       "    </tr>\n",
       "  </tbody>\n",
       "</table>\n",
       "</div>"
      ],
      "text/plain": [
       "  customersuspended               education  gender homeowner maritalstatus  \\\n",
       "0               Yes  Bachelor or equivalent    Male       Yes        Single   \n",
       "1               Yes  Bachelor or equivalent    Male       Yes        Single   \n",
       "2               Yes  Bachelor or equivalent  Female       Yes        Single   \n",
       "3               Yes  Bachelor or equivalent  Female       Yes        Single   \n",
       "4               Yes    Master or equivalent  Female       Yes        Single   \n",
       "\n",
       "  noadditionallines              occupation state usesinternetservice  \\\n",
       "0                \\N  Technology Related Job    WA                  No   \n",
       "1                \\N  Technology Related Job    WA                  No   \n",
       "2                \\N  Technology Related Job    WI                  No   \n",
       "3                \\N  Technology Related Job    WI                  No   \n",
       "4                \\N  Technology Related Job    KS                  No   \n",
       "\n",
       "  usesvoiceservice  \n",
       "0               No  \n",
       "1               No  \n",
       "2              Yes  \n",
       "3              Yes  \n",
       "4               No  "
      ]
     },
     "execution_count": 11,
     "metadata": {},
     "output_type": "execute_result"
    }
   ],
   "source": [
    "df.select_dtypes(include=['object']).head()"
   ]
  },
  {
   "cell_type": "code",
   "execution_count": 12,
   "metadata": {},
   "outputs": [],
   "source": [
    "df = df.replace('Yes', 1).replace('No', 0).replace('Male', 1).replace('Female', 0).replace('Single', 0).replace('Married', 1)"
   ]
  },
  {
   "cell_type": "markdown",
   "metadata": {},
   "source": [
    "Проверяем количество текстовых данных. Необходимо максимально уменьшить их количество, для того, чтобы легче было провести анализ. Большинство из них можно свести в категорийные или dummy. "
   ]
  },
  {
   "cell_type": "code",
   "execution_count": 13,
   "metadata": {},
   "outputs": [
    {
     "name": "stdout",
     "output_type": "stream",
     "text": [
      "<class 'pandas.core.frame.DataFrame'>\n",
      "RangeIndex: 20468 entries, 0 to 20467\n",
      "Data columns (total 27 columns):\n",
      "age                                     20468 non-null int64\n",
      "annualincome                            20468 non-null int64\n",
      "calldroprate                            20468 non-null float64\n",
      "callfailurerate                         20468 non-null float64\n",
      "customerid                              20468 non-null int64\n",
      "customersuspended                       20468 non-null int64\n",
      "education                               20468 non-null object\n",
      "gender                                  20468 non-null int64\n",
      "homeowner                               20468 non-null int64\n",
      "maritalstatus                           20468 non-null int64\n",
      "monthlybilledamount                     20468 non-null int64\n",
      "noadditionallines                       20468 non-null object\n",
      "numberofcomplaints                      20468 non-null int64\n",
      "numberofmonthunpaid                     20468 non-null int64\n",
      "numdayscontractequipmentplanexpiring    20468 non-null int64\n",
      "occupation                              20468 non-null object\n",
      "penaltytoswitch                         20468 non-null int64\n",
      "state                                   20468 non-null object\n",
      "totalminsusedinlastmonth                20468 non-null int64\n",
      "unpaidbalance                           20468 non-null int64\n",
      "usesinternetservice                     20468 non-null int64\n",
      "usesvoiceservice                        20468 non-null int64\n",
      "percentagecalloutsidenetwork            20468 non-null float64\n",
      "totalcallduration                       20468 non-null int64\n",
      "avgcallduration                         20468 non-null int64\n",
      "churn                                   20468 non-null int64\n",
      "month                                   20468 non-null int64\n",
      "dtypes: float64(3), int64(20), object(4)\n",
      "memory usage: 4.2+ MB\n"
     ]
    }
   ],
   "source": [
    "df.info()"
   ]
  },
  {
   "cell_type": "code",
   "execution_count": 14,
   "metadata": {},
   "outputs": [
    {
     "data": {
      "text/html": [
       "<div>\n",
       "<style scoped>\n",
       "    .dataframe tbody tr th:only-of-type {\n",
       "        vertical-align: middle;\n",
       "    }\n",
       "\n",
       "    .dataframe tbody tr th {\n",
       "        vertical-align: top;\n",
       "    }\n",
       "\n",
       "    .dataframe thead th {\n",
       "        text-align: right;\n",
       "    }\n",
       "</style>\n",
       "<table border=\"1\" class=\"dataframe\">\n",
       "  <thead>\n",
       "    <tr style=\"text-align: right;\">\n",
       "      <th></th>\n",
       "      <th>education</th>\n",
       "      <th>noadditionallines</th>\n",
       "      <th>occupation</th>\n",
       "      <th>state</th>\n",
       "    </tr>\n",
       "  </thead>\n",
       "  <tbody>\n",
       "    <tr>\n",
       "      <th>0</th>\n",
       "      <td>Bachelor or equivalent</td>\n",
       "      <td>\\N</td>\n",
       "      <td>Technology Related Job</td>\n",
       "      <td>WA</td>\n",
       "    </tr>\n",
       "    <tr>\n",
       "      <th>1</th>\n",
       "      <td>Bachelor or equivalent</td>\n",
       "      <td>\\N</td>\n",
       "      <td>Technology Related Job</td>\n",
       "      <td>WA</td>\n",
       "    </tr>\n",
       "    <tr>\n",
       "      <th>2</th>\n",
       "      <td>Bachelor or equivalent</td>\n",
       "      <td>\\N</td>\n",
       "      <td>Technology Related Job</td>\n",
       "      <td>WI</td>\n",
       "    </tr>\n",
       "    <tr>\n",
       "      <th>3</th>\n",
       "      <td>Bachelor or equivalent</td>\n",
       "      <td>\\N</td>\n",
       "      <td>Technology Related Job</td>\n",
       "      <td>WI</td>\n",
       "    </tr>\n",
       "    <tr>\n",
       "      <th>4</th>\n",
       "      <td>Master or equivalent</td>\n",
       "      <td>\\N</td>\n",
       "      <td>Technology Related Job</td>\n",
       "      <td>KS</td>\n",
       "    </tr>\n",
       "  </tbody>\n",
       "</table>\n",
       "</div>"
      ],
      "text/plain": [
       "                education noadditionallines              occupation state\n",
       "0  Bachelor or equivalent                \\N  Technology Related Job    WA\n",
       "1  Bachelor or equivalent                \\N  Technology Related Job    WA\n",
       "2  Bachelor or equivalent                \\N  Technology Related Job    WI\n",
       "3  Bachelor or equivalent                \\N  Technology Related Job    WI\n",
       "4    Master or equivalent                \\N  Technology Related Job    KS"
      ]
     },
     "execution_count": 14,
     "metadata": {},
     "output_type": "execute_result"
    }
   ],
   "source": [
    "df.select_dtypes(include=['object']).head()"
   ]
  },
  {
   "cell_type": "code",
   "execution_count": 15,
   "metadata": {},
   "outputs": [
    {
     "data": {
      "text/plain": [
       "High School or below      10217\n",
       "Bachelor or equivalent     6138\n",
       "Master or equivalent       3099\n",
       "PhD or equivalent          1014\n",
       "Name: education, dtype: int64"
      ]
     },
     "execution_count": 15,
     "metadata": {},
     "output_type": "execute_result"
    }
   ],
   "source": [
    "df['education'].value_counts()"
   ]
  },
  {
   "cell_type": "code",
   "execution_count": 16,
   "metadata": {},
   "outputs": [
    {
     "data": {
      "text/plain": [
       "\\N    20468\n",
       "Name: noadditionallines, dtype: int64"
      ]
     },
     "execution_count": 16,
     "metadata": {},
     "output_type": "execute_result"
    }
   ],
   "source": [
    "df['noadditionallines'].value_counts()"
   ]
  },
  {
   "cell_type": "code",
   "execution_count": 17,
   "metadata": {},
   "outputs": [
    {
     "data": {
      "text/plain": [
       "Others                        8189\n",
       "Non-technology Related Job    6189\n",
       "Technology Related Job        6090\n",
       "Name: occupation, dtype: int64"
      ]
     },
     "execution_count": 17,
     "metadata": {},
     "output_type": "execute_result"
    }
   ],
   "source": [
    "df['occupation'].value_counts()"
   ]
  },
  {
   "cell_type": "code",
   "execution_count": 18,
   "metadata": {},
   "outputs": [
    {
     "data": {
      "text/plain": [
       "HI    478\n",
       "MD    469\n",
       "NY    468\n",
       "AK    461\n",
       "FL    459\n",
       "NH    455\n",
       "WY    454\n",
       "MN    451\n",
       "KY    450\n",
       "AZ    450\n",
       "CA    449\n",
       "PA    448\n",
       "WA    444\n",
       "CO    442\n",
       "MT    442\n",
       "WI    440\n",
       "TX    437\n",
       "OH    435\n",
       "SD    427\n",
       "ND    427\n",
       "UT    425\n",
       "DE    423\n",
       "IN    423\n",
       "IA    418\n",
       "ID    411\n",
       "VA    407\n",
       "SC    404\n",
       "LA    400\n",
       "MS    398\n",
       "MA    398\n",
       "NV    397\n",
       "KS    395\n",
       "OR    394\n",
       "NM    390\n",
       "MI    388\n",
       "IL    377\n",
       "MO    377\n",
       "NJ    377\n",
       "RI    376\n",
       "VT    373\n",
       "OK    372\n",
       "NE    371\n",
       "ME    361\n",
       "NC    360\n",
       "TN    356\n",
       "WV    351\n",
       "CT    350\n",
       "GA    339\n",
       "AR    337\n",
       "AL    334\n",
       "Name: state, dtype: int64"
      ]
     },
     "execution_count": 18,
     "metadata": {},
     "output_type": "execute_result"
    }
   ],
   "source": [
    "df['state'].value_counts()"
   ]
  },
  {
   "cell_type": "code",
   "execution_count": 19,
   "metadata": {},
   "outputs": [],
   "source": [
    "df = df.drop('noadditionallines', axis = 1)"
   ]
  },
  {
   "cell_type": "markdown",
   "metadata": {},
   "source": [
    "Удаляем колонну 'noadditionallines' , т.к. она, как и колонна 'year' содержит одинаковые значения"
   ]
  },
  {
   "cell_type": "code",
   "execution_count": 20,
   "metadata": {},
   "outputs": [
    {
     "data": {
      "text/plain": [
       "age                                       int64\n",
       "annualincome                              int64\n",
       "calldroprate                            float64\n",
       "callfailurerate                         float64\n",
       "customerid                                int64\n",
       "customersuspended                         int64\n",
       "education                                object\n",
       "gender                                    int64\n",
       "homeowner                                 int64\n",
       "maritalstatus                             int64\n",
       "monthlybilledamount                       int64\n",
       "numberofcomplaints                        int64\n",
       "numberofmonthunpaid                       int64\n",
       "numdayscontractequipmentplanexpiring      int64\n",
       "occupation                               object\n",
       "penaltytoswitch                           int64\n",
       "state                                    object\n",
       "totalminsusedinlastmonth                  int64\n",
       "unpaidbalance                             int64\n",
       "usesinternetservice                       int64\n",
       "usesvoiceservice                          int64\n",
       "percentagecalloutsidenetwork            float64\n",
       "totalcallduration                         int64\n",
       "avgcallduration                           int64\n",
       "churn                                     int64\n",
       "month                                     int64\n",
       "dtype: object"
      ]
     },
     "execution_count": 20,
     "metadata": {},
     "output_type": "execute_result"
    }
   ],
   "source": [
    "df.dtypes"
   ]
  },
  {
   "cell_type": "code",
   "execution_count": 21,
   "metadata": {},
   "outputs": [
    {
     "data": {
      "text/plain": [
       "1    9475\n",
       "2    9466\n",
       "3    1527\n",
       "Name: month, dtype: int64"
      ]
     },
     "execution_count": 21,
     "metadata": {},
     "output_type": "execute_result"
    }
   ],
   "source": [
    "df['month'].value_counts()"
   ]
  },
  {
   "cell_type": "code",
   "execution_count": 22,
   "metadata": {
    "scrolled": false
   },
   "outputs": [
    {
     "data": {
      "text/plain": [
       "848"
      ]
     },
     "execution_count": 22,
     "metadata": {},
     "output_type": "execute_result"
    }
   ],
   "source": [
    "df['age'][(df['education'] == 'Bachelor or equivalent')&(df['age']<=20)].value_counts().sum()"
   ]
  },
  {
   "cell_type": "code",
   "execution_count": 23,
   "metadata": {},
   "outputs": [
    {
     "data": {
      "text/plain": [
       "414"
      ]
     },
     "execution_count": 23,
     "metadata": {},
     "output_type": "execute_result"
    }
   ],
   "source": [
    "df['age'][(df['education'] == 'Master or equivalent')&(df['age']<=20)].value_counts().sum()"
   ]
  },
  {
   "cell_type": "code",
   "execution_count": 24,
   "metadata": {},
   "outputs": [
    {
     "data": {
      "text/plain": [
       "2764"
      ]
     },
     "execution_count": 24,
     "metadata": {},
     "output_type": "execute_result"
    }
   ],
   "source": [
    "df['age'][df['age']<=20].value_counts().sum()"
   ]
  },
  {
   "cell_type": "markdown",
   "metadata": {},
   "source": [
    "Похоже, что есть сомнения в том, что в данных по образованию были указаны правдивые сведения, т.к. трудно представить себе такое количество 12-летних бакалавров и магистров"
   ]
  },
  {
   "cell_type": "code",
   "execution_count": 25,
   "metadata": {},
   "outputs": [
    {
     "data": {
      "text/plain": [
       "Index(['education', 'occupation', 'state'], dtype='object')"
      ]
     },
     "execution_count": 25,
     "metadata": {},
     "output_type": "execute_result"
    }
   ],
   "source": [
    "df.select_dtypes(include=['object']).columns"
   ]
  },
  {
   "cell_type": "code",
   "execution_count": 26,
   "metadata": {},
   "outputs": [],
   "source": [
    "df_dummy = pd.get_dummies(df[['education', 'occupation']])"
   ]
  },
  {
   "cell_type": "markdown",
   "metadata": {},
   "source": [
    "Переводим категорийные колонны в дамми колонны, для того, чтобы в модели можно было оценивать их вклад."
   ]
  },
  {
   "cell_type": "code",
   "execution_count": 27,
   "metadata": {},
   "outputs": [],
   "source": [
    "%matplotlib inline"
   ]
  },
  {
   "cell_type": "code",
   "execution_count": 28,
   "metadata": {
    "scrolled": true
   },
   "outputs": [
    {
     "data": {
      "text/plain": [
       "<matplotlib.axes._subplots.AxesSubplot at 0x8ebc668>"
      ]
     },
     "execution_count": 28,
     "metadata": {},
     "output_type": "execute_result"
    },
    {
     "data": {
      "image/png": "[encoded data removed]",
      "text/plain": [
       "<Figure size 432x288 with 1 Axes>"
      ]
     },
     "metadata": {
      "needs_background": "light"
     },
     "output_type": "display_data"
    }
   ],
   "source": [
    "df[['state','churn']].groupby('state').agg(np.std).plot(kind = 'hist')"
   ]
  },
  {
   "cell_type": "code",
   "execution_count": 29,
   "metadata": {},
   "outputs": [
    {
     "data": {
      "text/plain": [
       "<matplotlib.axes._subplots.AxesSubplot at 0x8f5a550>"
      ]
     },
     "execution_count": 29,
     "metadata": {},
     "output_type": "execute_result"
    },
    {
     "data": {
      "image/png": "[encoded data removed]",
      "text/plain": [
       "<Figure size 432x288 with 1 Axes>"
      ]
     },
     "metadata": {
      "needs_background": "light"
     },
     "output_type": "display_data"
    }
   ],
   "source": [
    "df[['state','churn']].groupby('state').agg(np.mean).plot(kind = 'hist')"
   ]
  },
  {
   "cell_type": "code",
   "execution_count": 30,
   "metadata": {},
   "outputs": [
    {
     "name": "stdout",
     "output_type": "stream",
     "text": [
      "p value =  [0.02909084]\n",
      "The null hypothesis cannot be rejected std comes from a normal distribution, column =  state\n",
      "p value =  [0.15304819]\n",
      "The null hypothesis cannot be rejected mean comes from a normal distribution, column =  state\n"
     ]
    }
   ],
   "source": [
    "import scipy as sp\n",
    "from scipy import stats\n",
    "\n",
    "def normal_distribution_test(column):\n",
    "    a = df[[column,'churn']].groupby(column).agg(np.std)\n",
    "    k2, p = sp.stats.normaltest(a, axis=0, nan_policy='propagate')\n",
    "    alpha = 1e-3\n",
    "    print(\"p value = \",p)\n",
    "    if p < alpha:  # null hypothesis: a comes from a normal distribution\n",
    "        print(\"The null hypothesis can be rejected std does not come from a normal distribution, column = \", column)\n",
    "    else:\n",
    "        print(\"The null hypothesis cannot be rejected std comes from a normal distribution, column = \", column)\n",
    "    \n",
    "    b = df[[column,'churn']].groupby(column).agg(np.mean)\n",
    "    k2, p = sp.stats.normaltest(b, axis=0, nan_policy='propagate')\n",
    "    alpha = 1e-3\n",
    "    print(\"p value = \",p)\n",
    "    if p < alpha:  # null hypothesis: b comes from a normal distribution\n",
    "        print(\"The null hypothesis can be rejected mean does not come from a normal distribution, column = \", column)\n",
    "    else:\n",
    "        print(\"The null hypothesis cannot be rejected mean comes from a normal distribution, column = \", column)\n",
    "    \n",
    "normal_distribution_test('state')\n"
   ]
  },
  {
   "cell_type": "markdown",
   "metadata": {},
   "source": [
    "Похоже, что распределение по штатам носит характер, похожий на характер нормального распределения. Мы не отвергаем гипотезу о том, что он подчиняется закону нормального распределения. Т.к. это категорийный признак, мы исключаем его из дальнейшего анализа"
   ]
  },
  {
   "cell_type": "code",
   "execution_count": 31,
   "metadata": {},
   "outputs": [
    {
     "data": {
      "text/plain": [
       "<matplotlib.axes._subplots.AxesSubplot at 0x902f400>"
      ]
     },
     "execution_count": 31,
     "metadata": {},
     "output_type": "execute_result"
    },
    {
     "data": {
      "image/png": "[encoded data removed]",
      "text/plain": [
       "<Figure size 432x288 with 1 Axes>"
      ]
     },
     "metadata": {
      "needs_background": "light"
     },
     "output_type": "display_data"
    }
   ],
   "source": [
    "df[['occupation','churn']].groupby('occupation').agg(np.mean).plot(kind = 'bar') "
   ]
  },
  {
   "cell_type": "code",
   "execution_count": 32,
   "metadata": {
    "scrolled": true
   },
   "outputs": [
    {
     "data": {
      "text/html": [
       "<div>\n",
       "<style scoped>\n",
       "    .dataframe tbody tr th:only-of-type {\n",
       "        vertical-align: middle;\n",
       "    }\n",
       "\n",
       "    .dataframe tbody tr th {\n",
       "        vertical-align: top;\n",
       "    }\n",
       "\n",
       "    .dataframe thead th {\n",
       "        text-align: right;\n",
       "    }\n",
       "</style>\n",
       "<table border=\"1\" class=\"dataframe\">\n",
       "  <thead>\n",
       "    <tr style=\"text-align: right;\">\n",
       "      <th></th>\n",
       "      <th>education</th>\n",
       "      <th>occupation</th>\n",
       "      <th>state</th>\n",
       "    </tr>\n",
       "  </thead>\n",
       "  <tbody>\n",
       "    <tr>\n",
       "      <th>0</th>\n",
       "      <td>Bachelor or equivalent</td>\n",
       "      <td>Technology Related Job</td>\n",
       "      <td>WA</td>\n",
       "    </tr>\n",
       "    <tr>\n",
       "      <th>1</th>\n",
       "      <td>Bachelor or equivalent</td>\n",
       "      <td>Technology Related Job</td>\n",
       "      <td>WA</td>\n",
       "    </tr>\n",
       "    <tr>\n",
       "      <th>2</th>\n",
       "      <td>Bachelor or equivalent</td>\n",
       "      <td>Technology Related Job</td>\n",
       "      <td>WI</td>\n",
       "    </tr>\n",
       "    <tr>\n",
       "      <th>3</th>\n",
       "      <td>Bachelor or equivalent</td>\n",
       "      <td>Technology Related Job</td>\n",
       "      <td>WI</td>\n",
       "    </tr>\n",
       "    <tr>\n",
       "      <th>4</th>\n",
       "      <td>Master or equivalent</td>\n",
       "      <td>Technology Related Job</td>\n",
       "      <td>KS</td>\n",
       "    </tr>\n",
       "  </tbody>\n",
       "</table>\n",
       "</div>"
      ],
      "text/plain": [
       "                education              occupation state\n",
       "0  Bachelor or equivalent  Technology Related Job    WA\n",
       "1  Bachelor or equivalent  Technology Related Job    WA\n",
       "2  Bachelor or equivalent  Technology Related Job    WI\n",
       "3  Bachelor or equivalent  Technology Related Job    WI\n",
       "4    Master or equivalent  Technology Related Job    KS"
      ]
     },
     "execution_count": 32,
     "metadata": {},
     "output_type": "execute_result"
    }
   ],
   "source": [
    "df.select_dtypes(include=['object']).head()"
   ]
  },
  {
   "cell_type": "code",
   "execution_count": null,
   "metadata": {},
   "outputs": [],
   "source": []
  },
  {
   "cell_type": "code",
   "execution_count": 33,
   "metadata": {},
   "outputs": [
    {
     "name": "stdout",
     "output_type": "stream",
     "text": [
      "Index(['age', 'annualincome', 'calldroprate', 'callfailurerate', 'customerid',\n",
      "       'customersuspended', 'gender', 'homeowner', 'maritalstatus',\n",
      "       'monthlybilledamount', 'numberofcomplaints', 'numberofmonthunpaid',\n",
      "       'numdayscontractequipmentplanexpiring', 'penaltytoswitch',\n",
      "       'totalminsusedinlastmonth', 'unpaidbalance', 'usesinternetservice',\n",
      "       'usesvoiceservice', 'percentagecalloutsidenetwork', 'totalcallduration',\n",
      "       'avgcallduration', 'churn', 'month', 'bachelor', 'highschool', 'master',\n",
      "       'phd', 'nontechnologyrelatedjob', 'occupationothers',\n",
      "       'technologyrelatedjob'],\n",
      "      dtype='object') (20468, 30)\n"
     ]
    }
   ],
   "source": [
    "df = pd.concat([df, df_dummy], axis=1, ignore_index=False)\n",
    "df = df.drop(['education', 'occupation', 'state'],axis = 1)\n",
    "cols_to_rename = {\n",
    "    'education_Bachelor or equivalent':'bachelor', \n",
    "    'education_High School or below':'highschool',\n",
    "    'education_Master or equivalent':'master',\n",
    "    'education_PhD or equivalent':'phd',\n",
    "    'occupation_Non-technology Related Job':'nontechnologyrelatedjob',\n",
    "    'occupation_Others':'occupationothers',\n",
    "    'occupation_Technology Related Job':'technologyrelatedjob'\n",
    "    }\n",
    "df = df.rename(columns=cols_to_rename)\n",
    "print(df.columns,df.shape)"
   ]
  },
  {
   "cell_type": "markdown",
   "metadata": {},
   "source": [
    "Подготавливаем данные для того, чтобы использовать их в дальнейшем в нейросети. Я выбрал библиотеку Tensorflow для запуска нейросети, а у неё есть строгие критерии по входящим данным и колонкам, в т.ч. по типам и по отсутствию элементов регулярных выражений в названии колонок."
   ]
  },
  {
   "cell_type": "code",
   "execution_count": 34,
   "metadata": {},
   "outputs": [
    {
     "name": "stderr",
     "output_type": "stream",
     "text": [
      "e:\\ProgramData\\Anaconda3\\lib\\site-packages\\h5py\\__init__.py:72: UserWarning: h5py is running against HDF5 1.10.2 when it was built against 1.10.3, this may cause problems\n",
      "  '{0}.{1}.{2}'.format(*version.hdf5_built_version_tuple)\n",
      "e:\\ProgramData\\Anaconda3\\lib\\site-packages\\tensorboard\\compat\\tensorflow_stub\\dtypes.py:541: FutureWarning: Passing (type, 1) or '1type' as a synonym of type is deprecated; in a future version of numpy, it will be understood as (type, (1,)) / '(1,)type'.\n",
      "  _np_qint8 = np.dtype([(\"qint8\", np.int8, 1)])\n",
      "e:\\ProgramData\\Anaconda3\\lib\\site-packages\\tensorboard\\compat\\tensorflow_stub\\dtypes.py:542: FutureWarning: Passing (type, 1) or '1type' as a synonym of type is deprecated; in a future version of numpy, it will be understood as (type, (1,)) / '(1,)type'.\n",
      "  _np_quint8 = np.dtype([(\"quint8\", np.uint8, 1)])\n",
      "e:\\ProgramData\\Anaconda3\\lib\\site-packages\\tensorboard\\compat\\tensorflow_stub\\dtypes.py:543: FutureWarning: Passing (type, 1) or '1type' as a synonym of type is deprecated; in a future version of numpy, it will be understood as (type, (1,)) / '(1,)type'.\n",
      "  _np_qint16 = np.dtype([(\"qint16\", np.int16, 1)])\n",
      "e:\\ProgramData\\Anaconda3\\lib\\site-packages\\tensorboard\\compat\\tensorflow_stub\\dtypes.py:544: FutureWarning: Passing (type, 1) or '1type' as a synonym of type is deprecated; in a future version of numpy, it will be understood as (type, (1,)) / '(1,)type'.\n",
      "  _np_quint16 = np.dtype([(\"quint16\", np.uint16, 1)])\n",
      "e:\\ProgramData\\Anaconda3\\lib\\site-packages\\tensorboard\\compat\\tensorflow_stub\\dtypes.py:545: FutureWarning: Passing (type, 1) or '1type' as a synonym of type is deprecated; in a future version of numpy, it will be understood as (type, (1,)) / '(1,)type'.\n",
      "  _np_qint32 = np.dtype([(\"qint32\", np.int32, 1)])\n",
      "e:\\ProgramData\\Anaconda3\\lib\\site-packages\\tensorboard\\compat\\tensorflow_stub\\dtypes.py:550: FutureWarning: Passing (type, 1) or '1type' as a synonym of type is deprecated; in a future version of numpy, it will be understood as (type, (1,)) / '(1,)type'.\n",
      "  np_resource = np.dtype([(\"resource\", np.ubyte, 1)])\n"
     ]
    }
   ],
   "source": [
    "from __future__ import absolute_import, division, print_function, unicode_literals\n",
    "\n",
    "import tensorflow as tf\n",
    "\n",
    "from tensorflow import feature_column\n",
    "from tensorflow.keras import layers\n",
    "from sklearn.model_selection import train_test_split"
   ]
  },
  {
   "cell_type": "markdown",
   "metadata": {},
   "source": [
    "Импортируем необходимые библиотеки для работы нейросети"
   ]
  },
  {
   "cell_type": "code",
   "execution_count": 35,
   "metadata": {},
   "outputs": [
    {
     "name": "stdout",
     "output_type": "stream",
     "text": [
      "13099 train examples\n",
      "3275 validation examples\n",
      "4094 test examples\n"
     ]
    }
   ],
   "source": [
    "# Use a utility from sklearn to split and shuffle our dataset.\n",
    "train, test = train_test_split(df, test_size=0.2)\n",
    "train, val = train_test_split(train, test_size=0.2)\n",
    "print(len(train), 'train examples')\n",
    "print(len(val), 'validation examples')\n",
    "print(len(test), 'test examples')"
   ]
  },
  {
   "cell_type": "markdown",
   "metadata": {},
   "source": [
    "Разбиваем датасет на три части, тренировочную, проверочную и тестовую и придаём ей случайный порядок"
   ]
  },
  {
   "cell_type": "code",
   "execution_count": 36,
   "metadata": {},
   "outputs": [],
   "source": [
    "# A utility method to create a tf.data dataset from a Pandas Dataframe\n",
    "def df_to_dataset(dataframe, shuffle=True, batch_size=32):\n",
    "  dataframe = dataframe.copy()\n",
    "  labels = dataframe.pop('churn')\n",
    "  ds = tf.data.Dataset.from_tensor_slices((dict(dataframe), labels))\n",
    "  if shuffle:\n",
    "    ds = ds.shuffle(buffer_size=len(dataframe))\n",
    "  ds = ds.batch(batch_size)\n",
    "  return ds"
   ]
  },
  {
   "cell_type": "markdown",
   "metadata": {},
   "source": [
    "Конвертируем датасет в формат библиотеки Tensorflow из датафрейма Pandas"
   ]
  },
  {
   "cell_type": "code",
   "execution_count": 37,
   "metadata": {},
   "outputs": [],
   "source": [
    "feature_columns = []\n",
    "\n",
    "for header in ['age', 'annualincome', 'calldroprate', 'callfailurerate', 'customerid', 'customersuspended', 'gender', 'homeowner', 'maritalstatus', 'monthlybilledamount', 'numberofcomplaints', 'numberofmonthunpaid', 'numdayscontractequipmentplanexpiring', 'penaltytoswitch', 'totalminsusedinlastmonth', 'unpaidbalance', 'usesinternetservice', 'usesvoiceservice', 'percentagecalloutsidenetwork', 'totalcallduration', 'avgcallduration', 'month', 'bachelor', 'highschool', 'master', 'phd', 'nontechnologyrelatedjob', 'occupationothers', 'technologyrelatedjob']:\n",
    "  feature_columns.append(feature_column.numeric_column(header))\n",
    "\n"
   ]
  },
  {
   "cell_type": "markdown",
   "metadata": {},
   "source": [
    "Идентифицируем все колонны как числовые, т.к. до этого мы перевели всё в формат dummy переменных"
   ]
  },
  {
   "cell_type": "code",
   "execution_count": 38,
   "metadata": {},
   "outputs": [],
   "source": [
    "feature_layer = tf.keras.layers.DenseFeatures(feature_columns)"
   ]
  },
  {
   "cell_type": "code",
   "execution_count": 39,
   "metadata": {},
   "outputs": [],
   "source": [
    "batch_size = 32\n",
    "train_ds = df_to_dataset(train, batch_size=batch_size)\n",
    "val_ds = df_to_dataset(val, shuffle=False, batch_size=batch_size)\n",
    "test_ds = df_to_dataset(test, shuffle=False, batch_size=batch_size)"
   ]
  },
  {
   "cell_type": "markdown",
   "metadata": {},
   "source": [
    "Переводим датафреймы в датасет Tensorflow, задаём размер батчей, на который делится датасет"
   ]
  },
  {
   "cell_type": "code",
   "execution_count": 40,
   "metadata": {},
   "outputs": [],
   "source": [
    "model = tf.keras.Sequential([\n",
    "  feature_layer,\n",
    "  layers.Dense(128, activation='relu'),\n",
    "  layers.Dense(128, activation='relu'),\n",
    "  layers.Dense(1, activation='sigmoid')\n",
    "])"
   ]
  },
  {
   "cell_type": "markdown",
   "metadata": {},
   "source": [
    "Использую стандартную модель рекурентной нейросети для таких датасетов, входящий слой с числом параметров равным числу колонок, два внутренних слоя с активацией Relu и одним выходным слоем с активацией сигмоидой (чтобы вывести бинарное значение признака)"
   ]
  },
  {
   "cell_type": "code",
   "execution_count": 41,
   "metadata": {},
   "outputs": [],
   "source": [
    "model.compile(optimizer='adam',\n",
    "              loss='binary_crossentropy',\n",
    "              metrics=['accuracy'])"
   ]
  },
  {
   "cell_type": "code",
   "execution_count": 42,
   "metadata": {},
   "outputs": [
    {
     "name": "stdout",
     "output_type": "stream",
     "text": [
      "Epoch 1/5\n",
      "410/410 [==============================] - 3s 7ms/step - loss: 287.3553 - accuracy: 0.8281 - val_loss: 0.0000e+00 - val_accuracy: 0.0000e+00\n",
      "Epoch 2/5\n",
      "410/410 [==============================] - 1s 3ms/step - loss: 176.3184 - accuracy: 0.8353 - val_loss: 221.6079 - val_accuracy: 0.1145\n",
      "Epoch 3/5\n",
      "410/410 [==============================] - 1s 3ms/step - loss: 101.4027 - accuracy: 0.8299 - val_loss: 106.2804 - val_accuracy: 0.9108\n",
      "Epoch 4/5\n",
      "410/410 [==============================] - 1s 3ms/step - loss: 111.1793 - accuracy: 0.8278 - val_loss: 48.1383 - val_accuracy: 0.3844\n",
      "Epoch 5/5\n",
      "410/410 [==============================] - 1s 3ms/step - loss: 62.1624 - accuracy: 0.8312 - val_loss: 107.0032 - val_accuracy: 0.9108\n"
     ]
    },
    {
     "data": {
      "text/plain": [
       "<tensorflow.python.keras.callbacks.History at 0x10bbe080>"
      ]
     },
     "execution_count": 42,
     "metadata": {},
     "output_type": "execute_result"
    }
   ],
   "source": [
    "model.fit(train_ds,\n",
    "          validation_data=val_ds,\n",
    "          epochs=5)"
   ]
  },
  {
   "cell_type": "markdown",
   "metadata": {},
   "source": [
    "Модель обучается, сделал 5 эпох, при большем количестве идёт сильное переобучение и качество модели падает"
   ]
  },
  {
   "cell_type": "code",
   "execution_count": 43,
   "metadata": {},
   "outputs": [
    {
     "name": "stdout",
     "output_type": "stream",
     "text": [
      "128/128 [==============================] - 0s 4ms/step - loss: 104.3157 - accuracy: 0.9145\n",
      "Accuracy 0.91450906 Loss 104.31571576846868\n"
     ]
    }
   ],
   "source": [
    "loss, accuracy = model.evaluate(test_ds)\n",
    "print(\"Accuracy\", accuracy, \"Loss\", loss)"
   ]
  },
  {
   "cell_type": "markdown",
   "metadata": {},
   "source": [
    "Получили неплохие показатели по accuracy (отношение правильных ответов ко всем) на тестовых данных. Модель пригодна для того, чтобы делать предсказания на тестовых данных и имеет предсказательную силу. "
   ]
  },
  {
   "cell_type": "code",
   "execution_count": 44,
   "metadata": {},
   "outputs": [],
   "source": [
    "predictions = model.predict(test_ds)\n",
    "predicted_val = [int(round(p[0])) for p in predictions]\n",
    "submission_df = pd.DataFrame({'test_index':test.index,'predicted_churn':predicted_val})\n",
    "\n",
    "\n",
    "submission_df.to_csv(\"submission.csv\", index=False)"
   ]
  },
  {
   "cell_type": "code",
   "execution_count": 45,
   "metadata": {
    "scrolled": true
   },
   "outputs": [
    {
     "data": {
      "text/html": [
       "<div>\n",
       "<style scoped>\n",
       "    .dataframe tbody tr th:only-of-type {\n",
       "        vertical-align: middle;\n",
       "    }\n",
       "\n",
       "    .dataframe tbody tr th {\n",
       "        vertical-align: top;\n",
       "    }\n",
       "\n",
       "    .dataframe thead th {\n",
       "        text-align: right;\n",
       "    }\n",
       "</style>\n",
       "<table border=\"1\" class=\"dataframe\">\n",
       "  <thead>\n",
       "    <tr style=\"text-align: right;\">\n",
       "      <th></th>\n",
       "      <th>test_index</th>\n",
       "      <th>predicted_churn</th>\n",
       "    </tr>\n",
       "  </thead>\n",
       "  <tbody>\n",
       "    <tr>\n",
       "      <th>0</th>\n",
       "      <td>5009</td>\n",
       "      <td>0</td>\n",
       "    </tr>\n",
       "    <tr>\n",
       "      <th>1</th>\n",
       "      <td>4159</td>\n",
       "      <td>0</td>\n",
       "    </tr>\n",
       "    <tr>\n",
       "      <th>2</th>\n",
       "      <td>15129</td>\n",
       "      <td>0</td>\n",
       "    </tr>\n",
       "    <tr>\n",
       "      <th>3</th>\n",
       "      <td>19994</td>\n",
       "      <td>0</td>\n",
       "    </tr>\n",
       "    <tr>\n",
       "      <th>4</th>\n",
       "      <td>18063</td>\n",
       "      <td>0</td>\n",
       "    </tr>\n",
       "    <tr>\n",
       "      <th>...</th>\n",
       "      <td>...</td>\n",
       "      <td>...</td>\n",
       "    </tr>\n",
       "    <tr>\n",
       "      <th>4089</th>\n",
       "      <td>13055</td>\n",
       "      <td>0</td>\n",
       "    </tr>\n",
       "    <tr>\n",
       "      <th>4090</th>\n",
       "      <td>12175</td>\n",
       "      <td>0</td>\n",
       "    </tr>\n",
       "    <tr>\n",
       "      <th>4091</th>\n",
       "      <td>13332</td>\n",
       "      <td>0</td>\n",
       "    </tr>\n",
       "    <tr>\n",
       "      <th>4092</th>\n",
       "      <td>19561</td>\n",
       "      <td>0</td>\n",
       "    </tr>\n",
       "    <tr>\n",
       "      <th>4093</th>\n",
       "      <td>20372</td>\n",
       "      <td>0</td>\n",
       "    </tr>\n",
       "  </tbody>\n",
       "</table>\n",
       "<p>4094 rows × 2 columns</p>\n",
       "</div>"
      ],
      "text/plain": [
       "      test_index  predicted_churn\n",
       "0           5009                0\n",
       "1           4159                0\n",
       "2          15129                0\n",
       "3          19994                0\n",
       "4          18063                0\n",
       "...          ...              ...\n",
       "4089       13055                0\n",
       "4090       12175                0\n",
       "4091       13332                0\n",
       "4092       19561                0\n",
       "4093       20372                0\n",
       "\n",
       "[4094 rows x 2 columns]"
      ]
     },
     "execution_count": 45,
     "metadata": {},
     "output_type": "execute_result"
    }
   ],
   "source": [
    "submission_df"
   ]
  }
 ],
 "metadata": {
  "kernelspec": {
   "display_name": "Python 3",
   "language": "python",
   "name": "python3"
  },
  "language_info": {
   "codemirror_mode": {
    "name": "ipython",
    "version": 3
   },
   "file_extension": ".py",
   "mimetype": "text/x-python",
   "name": "python",
   "nbconvert_exporter": "python",
   "pygments_lexer": "ipython3",
   "version": "3.7.1"
  }
 },
 "nbformat": 4,
 "nbformat_minor": 2
}
